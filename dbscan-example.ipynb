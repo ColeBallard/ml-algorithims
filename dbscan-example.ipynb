{
  "nbformat": 4,
  "nbformat_minor": 0,
  "metadata": {
    "colab": {
      "name": "DBSCAN.ipynb",
      "provenance": [],
      "collapsed_sections": []
    },
    "kernelspec": {
      "name": "python3",
      "display_name": "Python 3"
    },
    "language_info": {
      "name": "python"
    }
  },
  "cells": [
    {
      "cell_type": "code",
      "execution_count": null,
      "metadata": {
        "id": "WVjxIdt8_Usi"
      },
      "outputs": [],
      "source": [
        "#DBSCAN Workbook for Group6\n",
        "import pandas as pd\n",
        "from sklearn.preprocessing import StandardScaler\n",
        "from sklearn.cluster import DBSCAN\n",
        "from sklearn import metrics\n",
        "from matplotlib import pyplot as plt\n",
        "import numpy as np"
      ]
    },
    {
      "cell_type": "code",
      "source": [
        "df = pd.read_csv('https://raw.githubusercontent.com/ColeBallard/ml-algorithims/main/data/2021-11-ml-09-k-means-animals-dataset.csv')"
      ],
      "metadata": {
        "id": "7Mf4QN9V_kJN"
      },
      "execution_count": null,
      "outputs": []
    },
    {
      "cell_type": "code",
      "source": [
        "df.info()"
      ],
      "metadata": {
        "id": "GzpC2JgjEmuJ"
      },
      "execution_count": null,
      "outputs": []
    },
    {
      "cell_type": "markdown",
      "source": [
        "We can drop the Region, Stage, Individual ID and Comments columns"
      ],
      "metadata": {
        "id": "FRkzNBqPEptL"
      }
    },
    {
      "cell_type": "code",
      "source": [
        "df = df.drop(columns = ['Region', 'Stage', 'Individual ID', 'Comments'])"
      ],
      "metadata": {
        "id": "waAMS6qkEqaf"
      },
      "execution_count": null,
      "outputs": []
    },
    {
      "cell_type": "code",
      "source": [
        "df.describe()"
      ],
      "metadata": {
        "id": "poTMZv6MEsx9"
      },
      "execution_count": null,
      "outputs": []
    },
    {
      "cell_type": "markdown",
      "source": [
        "Let's drop rows where we have null values"
      ],
      "metadata": {
        "id": "27IQN936ExxC"
      }
    },
    {
      "cell_type": "code",
      "source": [
        "df.dropna(axis=0, how='any', inplace=True)\n",
        "df.info()"
      ],
      "metadata": {
        "id": "Vp3iQiO1EyiD"
      },
      "execution_count": null,
      "outputs": []
    },
    {
      "cell_type": "markdown",
      "source": [
        "Scale the data using standardscaler (other options are minmaxscaler etc.)"
      ],
      "metadata": {
        "id": "VmE-EMU4E6Sa"
      }
    },
    {
      "cell_type": "code",
      "source": [
        "df_scaled = StandardScaler().fit_transform(df)"
      ],
      "metadata": {
        "id": "yGithvMqE0hg"
      },
      "execution_count": null,
      "outputs": []
    },
    {
      "cell_type": "markdown",
      "source": [
        "To find optimal value for eps, we look for the knee in plot"
      ],
      "metadata": {
        "id": "dm4Ob38dFCM2"
      }
    },
    {
      "cell_type": "code",
      "source": [
        "def calculate_kn_distance(X,k):\n",
        "\n",
        "    kn_distance = []\n",
        "    for i in range(len(X)):\n",
        "        eucl_dist = []\n",
        "        for j in range(len(X)):\n",
        "            eucl_dist.append(\n",
        "                np.sqrt(\n",
        "                    ((X[i,0] - X[j,0]) ** 2) +\n",
        "                    ((X[i,1] - X[j,1]) ** 2)))\n",
        "\n",
        "        eucl_dist.sort()\n",
        "        kn_distance.append(eucl_dist[k])\n",
        "\n",
        "    return kn_distance"
      ],
      "metadata": {
        "id": "COz6BtPpE9vw"
      },
      "execution_count": null,
      "outputs": []
    },
    {
      "cell_type": "code",
      "source": [
        "eps_dist = calculate_kn_distance(df_scaled,20)\n",
        "plt.hist(eps_dist,bins=30)\n",
        "plt.ylabel('n');\n",
        "plt.xlabel('Epsilon distance');"
      ],
      "metadata": {
        "id": "OHUyNY11FHOl"
      },
      "execution_count": null,
      "outputs": []
    },
    {
      "cell_type": "code",
      "source": [
        "db = DBSCAN(eps=1.2, min_samples=20).fit(df_scaled)"
      ],
      "metadata": {
        "id": "3dPuIUAVFLRd"
      },
      "execution_count": null,
      "outputs": []
    },
    {
      "cell_type": "code",
      "source": [
        "core_samples_mask = np.zeros_like(db.labels_, dtype=bool)\n",
        "core_samples_mask[db.core_sample_indices_] = True\n",
        "labels = db.labels_"
      ],
      "metadata": {
        "id": "uw-JuyLCFRpf"
      },
      "execution_count": null,
      "outputs": []
    },
    {
      "cell_type": "code",
      "source": [
        "# Number of clusters in labels, ignoring noise if present.\n",
        "n_clusters_ = len(set(labels)) - (1 if -1 in labels else 0)\n",
        "n_noise_ = list(labels).count(-1)"
      ],
      "metadata": {
        "id": "OW5YJVhcFT52"
      },
      "execution_count": null,
      "outputs": []
    },
    {
      "cell_type": "code",
      "source": [
        "print(\"Estimated number of clusters: %d\" % n_clusters_)\n",
        "print(\"Estimated number of noise points: %d\" % n_noise_)"
      ],
      "metadata": {
        "id": "JfzsZW8JFXlR"
      },
      "execution_count": null,
      "outputs": []
    }
  ]
}